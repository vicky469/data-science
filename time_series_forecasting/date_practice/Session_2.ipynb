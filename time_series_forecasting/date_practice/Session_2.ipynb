{
 "cells": [
  {
   "cell_type": "markdown",
   "id": "36555652-2be5-44e7-893b-dea2a478a7c8",
   "metadata": {},
   "source": [
    "### 2.1 Load and Explore Time Series Data\n",
    "\n",
    "- Load Time Series Data ('daily-total-female-births.csv')\n",
    "- Explore the data--first 10 observations, size..\n",
    "- Query your data by time"
   ]
  },
  {
   "cell_type": "code",
   "execution_count": null,
   "id": "9db6f21e-218c-4c0e-b7bf-42e328b2df72",
   "metadata": {},
   "outputs": [],
   "source": []
  },
  {
   "cell_type": "markdown",
   "id": "8345c1f2-38d1-4272-bd8b-fad42d97d7f4",
   "metadata": {},
   "source": [
    "### 2.2 Date-Time Features\n",
    "- Date Time Features: these are components of the time step itself for each observation.\n",
    "- Lag Features: these are values at prior time steps.\n",
    "- Window Features: these are a summary of values over a fixed window of prior time steps.\n",
    "\n",
    "- Use the dataset: 'daily-minimum-temperatures.csv'\n",
    "\n",
    "- Practice on datetime and rolling function using \"apple.csv\" dataset\n"
   ]
  },
  {
   "cell_type": "markdown",
   "id": "4ded75ba-d621-4e92-8123-087f71b6a700",
   "metadata": {},
   "source": [
    "** Exercise from https://www.geeksforgeeks.org/python-pandas-dataframe-rolling/"
   ]
  },
  {
   "cell_type": "markdown",
   "id": "1024871d-d035-411e-8a1b-32fd2d8dc8af",
   "metadata": {},
   "source": [
    "Pandas dataframe.rolling() function provides the feature of rolling window calculations. The concept of rolling window calculation is most primarily used in signal processing and time-series data. In very simple words we take a window size of k at a time and perform some desired mathematical operation on it. A window of size k means k consecutive values at a time. In a very simple case, all the ‘k’ values are equally weighted."
   ]
  },
  {
   "cell_type": "code",
   "execution_count": null,
   "id": "e8ccef73-cde8-469e-80b8-2d7bd5297141",
   "metadata": {},
   "outputs": [],
   "source": []
  },
  {
   "cell_type": "markdown",
   "id": "e4768633-6645-46e4-a141-66e83c0c7330",
   "metadata": {},
   "source": [
    "### 2.3 Resampling and Interpolation\n",
    "- Upsampling: Where you increase the frequency of the samples, such as from minutes to seconds.\n",
    "- Downsampling: Where you decrease the frequency of the samples, such as from days to months.\n",
    "- use the dataset: 'shampoo-sales.csv'"
   ]
  },
  {
   "cell_type": "code",
   "execution_count": null,
   "id": "63089913-acee-45f3-8401-3356c3434f0d",
   "metadata": {},
   "outputs": [],
   "source": []
  },
  {
   "cell_type": "markdown",
   "id": "cf89758d-756a-40b1-ba43-07356c3710f8",
   "metadata": {},
   "source": [
    "### 2.4 Moving Average Smoothing\n",
    "- Centered Moving Average\n",
    "- Trailing Moving Average\n",
    "- Use the dataset: 'daily-total-female-births.csv'\n"
   ]
  },
  {
   "cell_type": "code",
   "execution_count": null,
   "id": "96581519-0907-459b-9aea-bf3e0e572b65",
   "metadata": {},
   "outputs": [],
   "source": []
  }
 ],
 "metadata": {
  "kernelspec": {
   "display_name": "Python 3 (ipykernel)",
   "language": "python",
   "name": "python3"
  },
  "language_info": {
   "codemirror_mode": {
    "name": "ipython",
    "version": 3
   },
   "file_extension": ".py",
   "mimetype": "text/x-python",
   "name": "python",
   "nbconvert_exporter": "python",
   "pygments_lexer": "ipython3",
   "version": "3.10.9"
  }
 },
 "nbformat": 4,
 "nbformat_minor": 5
}
